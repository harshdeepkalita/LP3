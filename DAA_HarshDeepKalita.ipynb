{
 "cells": [
  {
   "cell_type": "markdown",
   "id": "44b0fdcf",
   "metadata": {},
   "source": [
    "## Huffman encoding"
   ]
  },
  {
   "cell_type": "code",
   "execution_count": 27,
   "id": "48a3deac",
   "metadata": {},
   "outputs": [
    {
     "data": {
      "text/plain": [
       "'111110000'"
      ]
     },
     "execution_count": 27,
     "metadata": {},
     "output_type": "execute_result"
    }
   ],
   "source": [
    "import heapq\n",
    "import collections\n",
    "\n",
    "class Node:\n",
    "    def __init__(self,char,freq):\n",
    "        self.char = char\n",
    "        self.freq = freq\n",
    "        self.left = None\n",
    "        self.right = None\n",
    "    def __lt__(self,others):\n",
    "        return self.freq < others.freq\n",
    "\n",
    "def build_tree(text):\n",
    "    if not text:\n",
    "        return None\n",
    "    \n",
    "    # cal word count\n",
    "    frequency = collections.Counter(text)\n",
    "    # build priority queue\n",
    "    pq = [ Node(char,freq) for char,freq in frequency.items()]\n",
    "    heapq.heapify(pq)\n",
    "    \n",
    "    #main logic\n",
    "    while len(pq)>1:\n",
    "        left = heapq.heappop(pq)\n",
    "        right = heapq.heappop(pq)\n",
    "        merged = Node(None,left.freq + right.freq)\n",
    "        merged.left = left\n",
    "        merged.right = right\n",
    "        heapq.heappush(pq,merged)\n",
    "        \n",
    "    return pq[0]\n",
    "\n",
    "def huffman_code(node,prefix=\"\",codebook={}):\n",
    "    if node is not None:\n",
    "        codebook[node.char] = prefix\n",
    "        huffman_code(node.left,prefix+\"0\",codebook)\n",
    "        huffman_code(node.right,prefix + \"1\",codebook)\n",
    "        return codebook\n",
    "\n",
    "def encode_huffman(text):\n",
    "    tree = build_tree(text)\n",
    "    codebook = huffman_code(tree)\n",
    "    encoded = \"\"\n",
    "    for char in text:\n",
    "        encoded +=codebase[char]\n",
    "    return encoded\n",
    "\n",
    "encode_huffman('aabccc')"
   ]
  },
  {
   "cell_type": "markdown",
   "id": "96f2059a",
   "metadata": {},
   "source": [
    "## 0/1 Knapsack"
   ]
  },
  {
   "cell_type": "code",
   "execution_count": 35,
   "id": "e56b0f00",
   "metadata": {},
   "outputs": [
    {
     "name": "stdout",
     "output_type": "stream",
     "text": [
      "[0, 0, 0, 0, 0, 0, 0, 0, 0]\n",
      "[0, 0, 0, 2, 2, 2, 2, 2, 2]\n",
      "[0, 0, 0, 2, 3, 3, 3, 5, 5]\n",
      "[0, 0, 0, 2, 3, 3, 3, 5, 5]\n",
      "[0, 0, 0, 2, 3, 4, 4, 5, 6]\n"
     ]
    }
   ],
   "source": [
    "def sack(wt,pr,cap):\n",
    "    n = len(pr)\n",
    "    dp = [[0 for _ in range(cap+1)] for _ in range(n+1)]\n",
    "    \n",
    "    for i in range(1,n+1):\n",
    "        for w in range(1,cap+1):\n",
    "            if wt[i-1]<=w:\n",
    "                dp[i][w] = max(dp[i-1][w], dp[i-1][w - wt[i-1]]+pr[i-1])\n",
    "            else:\n",
    "                dp[i][w] = dp[i-1][w]\n",
    "    return dp\n",
    "\n",
    "pr = [2,3,1,4]\n",
    "wt  = [3,4,6,5]\n",
    "cap = 8\n",
    "dp_table = sack(wt,pr,cap)\n",
    "for row in dp_table:\n",
    "    print(row)\n"
   ]
  },
  {
   "cell_type": "markdown",
   "id": "430e51e7",
   "metadata": {},
   "source": [
    "## N Queens"
   ]
  },
  {
   "cell_type": "code",
   "execution_count": 45,
   "id": "a6a71b08",
   "metadata": {},
   "outputs": [
    {
     "name": "stdout",
     "output_type": "stream",
     "text": [
      "[0, 0, 1, 0]\n",
      "[1, 0, 0, 0]\n",
      "[0, 0, 0, 1]\n",
      "[0, 1, 0, 0]\n"
     ]
    }
   ],
   "source": [
    "def solve(n):\n",
    "    def is_safe(board, row, col):\n",
    "        for i in range(col):\n",
    "            if board[row][i] == 1:\n",
    "                return False\n",
    "            \n",
    "\n",
    "        # Check upper diagonal on left side\n",
    "        i, j = row, col\n",
    "        while i>=0 and j>=0:\n",
    "            if board[i][j] == 1:\n",
    "                return False\n",
    "            i-=1\n",
    "            j-=1\n",
    "            \n",
    "\n",
    "        # Check lower diagonal on left side\n",
    "        i, j = row, col\n",
    "        while j>=0 and i<n:\n",
    "            if board[i][j] == 1:\n",
    "                return False\n",
    "            j-=1\n",
    "            i+=1\n",
    "\n",
    "        return True\n",
    "\n",
    "    def solve_util(board,col):\n",
    "        if col >=n:\n",
    "            return True\n",
    "        \n",
    "        for i in range(n):\n",
    "            if is_safe(board,i,col):\n",
    "                board[i][col] = 1\n",
    "                if solve_util(board,col+1):\n",
    "                    return True\n",
    "                board[i][col] = 0\n",
    "        return False\n",
    "    \n",
    "    \n",
    "    # create a nxn board\n",
    "    board = [[0 for _ in range(n)]for _ in range(n)]\n",
    "    if not solve_util(board,0):\n",
    "        return 'solution no'\n",
    "    return board\n",
    "n = 4\n",
    "solution = solve(n)\n",
    "for row in solution:\n",
    "\n",
    "    print(row\n",
    "         )"
   ]
  },
  {
   "cell_type": "markdown",
   "id": "f0c54c15",
   "metadata": {},
   "source": [
    "## N Queens"
   ]
  },
  {
   "cell_type": "code",
   "execution_count": 71,
   "id": "7cb40b44",
   "metadata": {},
   "outputs": [
    {
     "data": {
      "text/plain": [
       "[[1, 0, 0, 0, 0, 0, 0, 0, 0, 0],\n",
       " [0, 0, 0, 0, 0, 0, 0, 1, 0, 0],\n",
       " [0, 1, 0, 0, 0, 0, 0, 0, 0, 0],\n",
       " [0, 0, 0, 0, 0, 0, 0, 0, 1, 0],\n",
       " [0, 0, 0, 0, 0, 1, 0, 0, 0, 0],\n",
       " [0, 0, 1, 0, 0, 0, 0, 0, 0, 0],\n",
       " [0, 0, 0, 0, 0, 0, 0, 0, 0, 1],\n",
       " [0, 0, 0, 1, 0, 0, 0, 0, 0, 0],\n",
       " [0, 0, 0, 0, 0, 0, 1, 0, 0, 0],\n",
       " [0, 0, 0, 0, 1, 0, 0, 0, 0, 0]]"
      ]
     },
     "execution_count": 71,
     "metadata": {},
     "output_type": "execute_result"
    }
   ],
   "source": [
    "def queen(n):\n",
    "    def safe(board,row,col):\n",
    "        # row checking process:-\n",
    "        \n",
    "        #row checking (left side)\n",
    "        for i in range(col):\n",
    "            if board[row][i]==1:\n",
    "                return False\n",
    "        # upper diagonal (left side)\n",
    "        i,j = row,col\n",
    "        while i>=0 and j >=0:\n",
    "            if board[i][j]==1:\n",
    "                return False\n",
    "            i-=1\n",
    "            j-=1\n",
    "        # lower diagonal (left side)\n",
    "        i,j = row,col\n",
    "        while i<n and j>=0:\n",
    "            if board[i][j] == 1:\n",
    "                return False\n",
    "            i+=1\n",
    "            j-=1\n",
    "        return True\n",
    "    \n",
    "    def utils(board,col):\n",
    "        # column checking process:-\n",
    "        if col>=n:\n",
    "            return True\n",
    "        for row in range(n):\n",
    "            if safe(board,row,col):\n",
    "                board[row][col] = 1\n",
    "                if utils(board,col+1):\n",
    "                    return True\n",
    "                board[row][col] = 0\n",
    "        return False\n",
    "    \n",
    "    board = [[0 for _ in range(n)]for _ in range(n)]\n",
    "    if not utils(board,0):\n",
    "        return \"no sol found\"\n",
    "    return board\n",
    "n = 10\n",
    "queen(n)"
   ]
  },
  {
   "cell_type": "markdown",
   "id": "44c36436",
   "metadata": {},
   "source": [
    "## Fibonacci Sequence"
   ]
  },
  {
   "cell_type": "code",
   "execution_count": 78,
   "id": "01d506d7",
   "metadata": {},
   "outputs": [
    {
     "name": "stdout",
     "output_type": "stream",
     "text": [
      "55 55\n"
     ]
    }
   ],
   "source": [
    "def fiborec(n):\n",
    "    if n<2:\n",
    "        return n\n",
    "    return fibo(n-1) + fibo(n-2)\n",
    "def fibo(n):\n",
    "    a,b = 0,1\n",
    "    for i in range(n):\n",
    "        temp = b;\n",
    "        b = a + b\n",
    "        a = temp\n",
    "    return b\n",
    "print(fiborec(9), fibo(9))"
   ]
  }
 ],
 "metadata": {
  "kernelspec": {
   "display_name": "Python 3 (ipykernel)",
   "language": "python",
   "name": "python3"
  },
  "language_info": {
   "codemirror_mode": {
    "name": "ipython",
    "version": 3
   },
   "file_extension": ".py",
   "mimetype": "text/x-python",
   "name": "python",
   "nbconvert_exporter": "python",
   "pygments_lexer": "ipython3",
   "version": "3.9.12"
  }
 },
 "nbformat": 4,
 "nbformat_minor": 5
}
