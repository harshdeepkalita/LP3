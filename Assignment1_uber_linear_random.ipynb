{
 "cells": [
  {
   "cell_type": "code",
   "execution_count": 57,
   "id": "5c930257",
   "metadata": {},
   "outputs": [],
   "source": [
    "import pandas as pd\n",
    "import numpy as np\n",
    "import matplotlib.pyplot as plt\n",
    "import warnings \n",
    "import seaborn as sb\n",
    "\n",
    "warnings.filterwarnings(\"ignore\") "
   ]
  },
  {
   "cell_type": "code",
   "execution_count": 344,
   "id": "d9b44543",
   "metadata": {},
   "outputs": [],
   "source": [
    "df = pd.read_csv(\"uber.csv\")"
   ]
  },
  {
   "cell_type": "code",
   "execution_count": 345,
   "id": "59d1ac6c",
   "metadata": {},
   "outputs": [
    {
     "data": {
      "text/html": [
       "<div>\n",
       "<style scoped>\n",
       "    .dataframe tbody tr th:only-of-type {\n",
       "        vertical-align: middle;\n",
       "    }\n",
       "\n",
       "    .dataframe tbody tr th {\n",
       "        vertical-align: top;\n",
       "    }\n",
       "\n",
       "    .dataframe thead th {\n",
       "        text-align: right;\n",
       "    }\n",
       "</style>\n",
       "<table border=\"1\" class=\"dataframe\">\n",
       "  <thead>\n",
       "    <tr style=\"text-align: right;\">\n",
       "      <th></th>\n",
       "      <th>Unnamed: 0</th>\n",
       "      <th>key</th>\n",
       "      <th>fare_amount</th>\n",
       "      <th>pickup_datetime</th>\n",
       "      <th>pickup_longitude</th>\n",
       "      <th>pickup_latitude</th>\n",
       "      <th>dropoff_longitude</th>\n",
       "      <th>dropoff_latitude</th>\n",
       "      <th>passenger_count</th>\n",
       "    </tr>\n",
       "  </thead>\n",
       "  <tbody>\n",
       "    <tr>\n",
       "      <th>0</th>\n",
       "      <td>24238194</td>\n",
       "      <td>2015-05-07 19:52:06.0000003</td>\n",
       "      <td>7.5</td>\n",
       "      <td>2015-05-07 19:52:06 UTC</td>\n",
       "      <td>-73.999817</td>\n",
       "      <td>40.738354</td>\n",
       "      <td>-73.999512</td>\n",
       "      <td>40.723217</td>\n",
       "      <td>1</td>\n",
       "    </tr>\n",
       "    <tr>\n",
       "      <th>1</th>\n",
       "      <td>27835199</td>\n",
       "      <td>2009-07-17 20:04:56.0000002</td>\n",
       "      <td>7.7</td>\n",
       "      <td>2009-07-17 20:04:56 UTC</td>\n",
       "      <td>-73.994355</td>\n",
       "      <td>40.728225</td>\n",
       "      <td>-73.994710</td>\n",
       "      <td>40.750325</td>\n",
       "      <td>1</td>\n",
       "    </tr>\n",
       "    <tr>\n",
       "      <th>2</th>\n",
       "      <td>44984355</td>\n",
       "      <td>2009-08-24 21:45:00.00000061</td>\n",
       "      <td>12.9</td>\n",
       "      <td>2009-08-24 21:45:00 UTC</td>\n",
       "      <td>-74.005043</td>\n",
       "      <td>40.740770</td>\n",
       "      <td>-73.962565</td>\n",
       "      <td>40.772647</td>\n",
       "      <td>1</td>\n",
       "    </tr>\n",
       "    <tr>\n",
       "      <th>3</th>\n",
       "      <td>25894730</td>\n",
       "      <td>2009-06-26 08:22:21.0000001</td>\n",
       "      <td>5.3</td>\n",
       "      <td>2009-06-26 08:22:21 UTC</td>\n",
       "      <td>-73.976124</td>\n",
       "      <td>40.790844</td>\n",
       "      <td>-73.965316</td>\n",
       "      <td>40.803349</td>\n",
       "      <td>3</td>\n",
       "    </tr>\n",
       "    <tr>\n",
       "      <th>4</th>\n",
       "      <td>17610152</td>\n",
       "      <td>2014-08-28 17:47:00.000000188</td>\n",
       "      <td>16.0</td>\n",
       "      <td>2014-08-28 17:47:00 UTC</td>\n",
       "      <td>-73.925023</td>\n",
       "      <td>40.744085</td>\n",
       "      <td>-73.973082</td>\n",
       "      <td>40.761247</td>\n",
       "      <td>5</td>\n",
       "    </tr>\n",
       "  </tbody>\n",
       "</table>\n",
       "</div>"
      ],
      "text/plain": [
       "   Unnamed: 0                            key  fare_amount  \\\n",
       "0    24238194    2015-05-07 19:52:06.0000003          7.5   \n",
       "1    27835199    2009-07-17 20:04:56.0000002          7.7   \n",
       "2    44984355   2009-08-24 21:45:00.00000061         12.9   \n",
       "3    25894730    2009-06-26 08:22:21.0000001          5.3   \n",
       "4    17610152  2014-08-28 17:47:00.000000188         16.0   \n",
       "\n",
       "           pickup_datetime  pickup_longitude  pickup_latitude  \\\n",
       "0  2015-05-07 19:52:06 UTC        -73.999817        40.738354   \n",
       "1  2009-07-17 20:04:56 UTC        -73.994355        40.728225   \n",
       "2  2009-08-24 21:45:00 UTC        -74.005043        40.740770   \n",
       "3  2009-06-26 08:22:21 UTC        -73.976124        40.790844   \n",
       "4  2014-08-28 17:47:00 UTC        -73.925023        40.744085   \n",
       "\n",
       "   dropoff_longitude  dropoff_latitude  passenger_count  \n",
       "0         -73.999512         40.723217                1  \n",
       "1         -73.994710         40.750325                1  \n",
       "2         -73.962565         40.772647                1  \n",
       "3         -73.965316         40.803349                3  \n",
       "4         -73.973082         40.761247                5  "
      ]
     },
     "execution_count": 345,
     "metadata": {},
     "output_type": "execute_result"
    }
   ],
   "source": [
    "df.head()"
   ]
  },
  {
   "cell_type": "code",
   "execution_count": 346,
   "id": "d91df72b",
   "metadata": {},
   "outputs": [],
   "source": [
    "df.drop_duplicates(inplace=True)\n",
    "df.dropna(inplace=True)"
   ]
  },
  {
   "cell_type": "code",
   "execution_count": 347,
   "id": "6353a16d",
   "metadata": {},
   "outputs": [],
   "source": [
    "df.drop([\"Unnamed: 0\",\"key\"],axis=1, inplace=True)"
   ]
  },
  {
   "cell_type": "code",
   "execution_count": 348,
   "id": "3ec3713a",
   "metadata": {},
   "outputs": [
    {
     "name": "stdout",
     "output_type": "stream",
     "text": [
      "<class 'pandas.core.frame.DataFrame'>\n",
      "Int64Index: 199999 entries, 0 to 199999\n",
      "Data columns (total 7 columns):\n",
      " #   Column             Non-Null Count   Dtype  \n",
      "---  ------             --------------   -----  \n",
      " 0   fare_amount        199999 non-null  float64\n",
      " 1   pickup_datetime    199999 non-null  object \n",
      " 2   pickup_longitude   199999 non-null  float64\n",
      " 3   pickup_latitude    199999 non-null  float64\n",
      " 4   dropoff_longitude  199999 non-null  float64\n",
      " 5   dropoff_latitude   199999 non-null  float64\n",
      " 6   passenger_count    199999 non-null  int64  \n",
      "dtypes: float64(5), int64(1), object(1)\n",
      "memory usage: 12.2+ MB\n"
     ]
    }
   ],
   "source": [
    "df.info()"
   ]
  },
  {
   "cell_type": "code",
   "execution_count": 349,
   "id": "0f88f6f3",
   "metadata": {},
   "outputs": [],
   "source": [
    "df = df[(df.pickup_latitude<90) & (df.dropoff_latitude<90) &\n",
    "        (df.pickup_latitude>-90) & (df.dropoff_latitude>-90) &\n",
    "        (df.pickup_longitude<180) & (df.dropoff_longitude<180) &\n",
    "        (df.pickup_longitude>-180) & (df.dropoff_longitude>-180)]"
   ]
  },
  {
   "cell_type": "code",
   "execution_count": 350,
   "id": "0f93c3a6",
   "metadata": {},
   "outputs": [],
   "source": [
    "df['pickup_datetime'] = pd.to_datetime(df['pickup_datetime'])\n",
    "df['month'] = df.pickup_datetime.dt.month\n",
    "df['year'] = df.pickup_datetime.dt.year"
   ]
  },
  {
   "cell_type": "code",
   "execution_count": 351,
   "id": "e03e4554",
   "metadata": {},
   "outputs": [],
   "source": [
    "df.drop('pickup_datetime',axis=1,inplace=True)"
   ]
  },
  {
   "cell_type": "code",
   "execution_count": 352,
   "id": "2307040d",
   "metadata": {},
   "outputs": [
    {
     "data": {
      "image/png": "[encoded data removed]",
      "text/plain": [
       "<Figure size 640x480 with 1 Axes>"
      ]
     },
     "metadata": {},
     "output_type": "display_data"
    }
   ],
   "source": [
    "sb.boxplot(data = df,x = \"fare_amount\");"
   ]
  },
  {
   "cell_type": "code",
   "execution_count": 353,
   "id": "30f1bdb9",
   "metadata": {},
   "outputs": [
    {
     "data": {
      "image/png": "[encoded data removed]",
      "text/plain": [
       "<Figure size 640x480 with 1 Axes>"
      ]
     },
     "metadata": {},
     "output_type": "display_data"
    }
   ],
   "source": [
    "#Remove Outliers\n",
    "q1 = df[\"fare_amount\"].quantile(0.25)\n",
    "q3  = df[\"fare_amount\"].quantile(0.75)\n",
    "iqr = q3-q1\n",
    "lower_bound = q1 - 1.5*iqr\n",
    "upper_bound = q3 + 1.5*iqr\n",
    "\n",
    "df = df[(df[\"fare_amount\"] <= upper_bound) & (df[\"fare_amount\"] >= lower_bound)]\n",
    "sb.boxplot(data = df,x = \"fare_amount\");"
   ]
  },
  {
   "cell_type": "code",
   "execution_count": 354,
   "id": "52c3c198",
   "metadata": {},
   "outputs": [
    {
     "data": {
      "text/plain": [
       "Index(['fare_amount', 'pickup_longitude', 'pickup_latitude',\n",
       "       'dropoff_longitude', 'dropoff_latitude', 'passenger_count', 'month',\n",
       "       'year'],\n",
       "      dtype='object')"
      ]
     },
     "execution_count": 354,
     "metadata": {},
     "output_type": "execute_result"
    }
   ],
   "source": [
    "df.columns"
   ]
  },
  {
   "cell_type": "code",
   "execution_count": 355,
   "id": "b1bb8ef0",
   "metadata": {},
   "outputs": [],
   "source": [
    "from sklearn.preprocessing import StandardScaler\n",
    "x = df.drop('fare_amount',axis = 1)\n",
    "y = df['fare_amount']\n",
    "std = StandardScaler()\n",
    "std_x = std.fit_transform(x)"
   ]
  },
  {
   "cell_type": "code",
   "execution_count": 356,
   "id": "e1767c21",
   "metadata": {},
   "outputs": [
    {
     "data": {
      "text/html": [
       "<div>\n",
       "<style scoped>\n",
       "    .dataframe tbody tr th:only-of-type {\n",
       "        vertical-align: middle;\n",
       "    }\n",
       "\n",
       "    .dataframe tbody tr th {\n",
       "        vertical-align: top;\n",
       "    }\n",
       "\n",
       "    .dataframe thead th {\n",
       "        text-align: right;\n",
       "    }\n",
       "</style>\n",
       "<table border=\"1\" class=\"dataframe\">\n",
       "  <thead>\n",
       "    <tr style=\"text-align: right;\">\n",
       "      <th></th>\n",
       "      <th>fare_amount</th>\n",
       "      <th>pickup_longitude</th>\n",
       "      <th>pickup_latitude</th>\n",
       "      <th>dropoff_longitude</th>\n",
       "      <th>dropoff_latitude</th>\n",
       "      <th>passenger_count</th>\n",
       "      <th>month</th>\n",
       "      <th>year</th>\n",
       "    </tr>\n",
       "  </thead>\n",
       "  <tbody>\n",
       "    <tr>\n",
       "      <th>fare_amount</th>\n",
       "      <td>1.000000</td>\n",
       "      <td>0.000401</td>\n",
       "      <td>-0.000844</td>\n",
       "      <td>-0.000816</td>\n",
       "      <td>0.000403</td>\n",
       "      <td>0.012625</td>\n",
       "      <td>0.026331</td>\n",
       "      <td>0.135179</td>\n",
       "    </tr>\n",
       "    <tr>\n",
       "      <th>pickup_longitude</th>\n",
       "      <td>0.000401</td>\n",
       "      <td>1.000000</td>\n",
       "      <td>-0.980262</td>\n",
       "      <td>0.954614</td>\n",
       "      <td>-0.942598</td>\n",
       "      <td>-0.000977</td>\n",
       "      <td>-0.003101</td>\n",
       "      <td>0.009596</td>\n",
       "    </tr>\n",
       "    <tr>\n",
       "      <th>pickup_latitude</th>\n",
       "      <td>-0.000844</td>\n",
       "      <td>-0.980262</td>\n",
       "      <td>1.000000</td>\n",
       "      <td>-0.942301</td>\n",
       "      <td>0.962166</td>\n",
       "      <td>-0.000484</td>\n",
       "      <td>0.004104</td>\n",
       "      <td>-0.011770</td>\n",
       "    </tr>\n",
       "    <tr>\n",
       "      <th>dropoff_longitude</th>\n",
       "      <td>-0.000816</td>\n",
       "      <td>0.954614</td>\n",
       "      <td>-0.942301</td>\n",
       "      <td>1.000000</td>\n",
       "      <td>-0.980809</td>\n",
       "      <td>-0.000191</td>\n",
       "      <td>-0.001862</td>\n",
       "      <td>0.009168</td>\n",
       "    </tr>\n",
       "    <tr>\n",
       "      <th>dropoff_latitude</th>\n",
       "      <td>0.000403</td>\n",
       "      <td>-0.942598</td>\n",
       "      <td>0.962166</td>\n",
       "      <td>-0.980809</td>\n",
       "      <td>1.000000</td>\n",
       "      <td>-0.001682</td>\n",
       "      <td>0.003226</td>\n",
       "      <td>-0.011370</td>\n",
       "    </tr>\n",
       "    <tr>\n",
       "      <th>passenger_count</th>\n",
       "      <td>0.012625</td>\n",
       "      <td>-0.000977</td>\n",
       "      <td>-0.000484</td>\n",
       "      <td>-0.000191</td>\n",
       "      <td>-0.001682</td>\n",
       "      <td>1.000000</td>\n",
       "      <td>0.009620</td>\n",
       "      <td>0.002371</td>\n",
       "    </tr>\n",
       "    <tr>\n",
       "      <th>month</th>\n",
       "      <td>0.026331</td>\n",
       "      <td>-0.003101</td>\n",
       "      <td>0.004104</td>\n",
       "      <td>-0.001862</td>\n",
       "      <td>0.003226</td>\n",
       "      <td>0.009620</td>\n",
       "      <td>1.000000</td>\n",
       "      <td>-0.115990</td>\n",
       "    </tr>\n",
       "    <tr>\n",
       "      <th>year</th>\n",
       "      <td>0.135179</td>\n",
       "      <td>0.009596</td>\n",
       "      <td>-0.011770</td>\n",
       "      <td>0.009168</td>\n",
       "      <td>-0.011370</td>\n",
       "      <td>0.002371</td>\n",
       "      <td>-0.115990</td>\n",
       "      <td>1.000000</td>\n",
       "    </tr>\n",
       "  </tbody>\n",
       "</table>\n",
       "</div>"
      ],
      "text/plain": [
       "                   fare_amount  pickup_longitude  pickup_latitude  \\\n",
       "fare_amount           1.000000          0.000401        -0.000844   \n",
       "pickup_longitude      0.000401          1.000000        -0.980262   \n",
       "pickup_latitude      -0.000844         -0.980262         1.000000   \n",
       "dropoff_longitude    -0.000816          0.954614        -0.942301   \n",
       "dropoff_latitude      0.000403         -0.942598         0.962166   \n",
       "passenger_count       0.012625         -0.000977        -0.000484   \n",
       "month                 0.026331         -0.003101         0.004104   \n",
       "year                  0.135179          0.009596        -0.011770   \n",
       "\n",
       "                   dropoff_longitude  dropoff_latitude  passenger_count  \\\n",
       "fare_amount                -0.000816          0.000403         0.012625   \n",
       "pickup_longitude            0.954614         -0.942598        -0.000977   \n",
       "pickup_latitude            -0.942301          0.962166        -0.000484   \n",
       "dropoff_longitude           1.000000         -0.980809        -0.000191   \n",
       "dropoff_latitude           -0.980809          1.000000        -0.001682   \n",
       "passenger_count            -0.000191         -0.001682         1.000000   \n",
       "month                      -0.001862          0.003226         0.009620   \n",
       "year                        0.009168         -0.011370         0.002371   \n",
       "\n",
       "                      month      year  \n",
       "fare_amount        0.026331  0.135179  \n",
       "pickup_longitude  -0.003101  0.009596  \n",
       "pickup_latitude    0.004104 -0.011770  \n",
       "dropoff_longitude -0.001862  0.009168  \n",
       "dropoff_latitude   0.003226 -0.011370  \n",
       "passenger_count    0.009620  0.002371  \n",
       "month              1.000000 -0.115990  \n",
       "year              -0.115990  1.000000  "
      ]
     },
     "execution_count": 356,
     "metadata": {},
     "output_type": "execute_result"
    }
   ],
   "source": [
    "df.corr()"
   ]
  },
  {
   "cell_type": "code",
   "execution_count": 357,
   "id": "09aece26",
   "metadata": {},
   "outputs": [],
   "source": [
    "from sklearn.model_selection import train_test_split\n",
    "x_train, x_test, y_train, y_test = train_test_split(std_x, y, test_size = 0.2, random_state = 42)"
   ]
  },
  {
   "cell_type": "code",
   "execution_count": 358,
   "id": "21369894",
   "metadata": {},
   "outputs": [
    {
     "data": {
      "text/plain": [
       "LinearRegression()"
      ]
     },
     "execution_count": 358,
     "metadata": {},
     "output_type": "execute_result"
    }
   ],
   "source": [
    "from sklearn.linear_model import LinearRegression\n",
    "model = LinearRegression()\n",
    "model.fit(x_train,y_train)"
   ]
  },
  {
   "cell_type": "code",
   "execution_count": 359,
   "id": "745bf3f3",
   "metadata": {},
   "outputs": [
    {
     "name": "stdout",
     "output_type": "stream",
     "text": [
      "RMSE error for the model is  4.100164786779416\n"
     ]
    }
   ],
   "source": [
    "#Check Error\n",
    "predict = model.predict(x_test)\n",
    "from sklearn.metrics import mean_squared_error\n",
    "rmse = np.sqrt(mean_squared_error(predict, y_test))\n",
    "print(\"RMSE error for the model is \", rmse)"
   ]
  },
  {
   "cell_type": "code",
   "execution_count": 360,
   "id": "c279798b",
   "metadata": {},
   "outputs": [
    {
     "name": "stdout",
     "output_type": "stream",
     "text": [
      "RMSE value for Random Forest is: 2.2243233902661013\n"
     ]
    }
   ],
   "source": [
    "#Let's Apply Random Forest Regressor\n",
    "from sklearn.ensemble import RandomForestRegressor\n",
    "model = RandomForestRegressor(n_estimators = 10, random_state = 101)\n",
    "\n",
    "#Fit the Forest\n",
    "model.fit(x_train, y_train)\n",
    "predict = model.predict(x_test)\n",
    "\n",
    "#Errors for the forest\n",
    "rmse = np.sqrt(mean_squared_error(predict, y_test))\n",
    "print(\"RMSE value for Random Forest is:\",rmse)"
   ]
  }
 ],
 "metadata": {
  "kernelspec": {
   "display_name": "Python 3 (ipykernel)",
   "language": "python",
   "name": "python3"
  },
  "language_info": {
   "codemirror_mode": {
    "name": "ipython",
    "version": 3
   },
   "file_extension": ".py",
   "mimetype": "text/x-python",
   "name": "python",
   "nbconvert_exporter": "python",
   "pygments_lexer": "ipython3",
   "version": "3.9.12"
  }
 },
 "nbformat": 4,
 "nbformat_minor": 5
}
